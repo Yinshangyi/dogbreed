{
 "cells": [
  {
   "cell_type": "code",
   "execution_count": 6,
   "metadata": {
    "colab": {},
    "colab_type": "code",
    "id": "df5mxZ6Bux5F"
   },
   "outputs": [],
   "source": [
    "from keras import applications\n",
    "from keras.preprocessing.image import ImageDataGenerator\n",
    "from keras import optimizers\n",
    "from keras.models import Sequential, Model \n",
    "from keras.layers import Dropout, Flatten, Dense, GlobalAveragePooling2D, BatchNormalization, Activation\n",
    "from keras import backend as k \n",
    "from keras.callbacks import ModelCheckpoint, LearningRateScheduler, TensorBoard, EarlyStopping\n",
    "from keras.preprocessing.image import img_to_array, load_img\n",
    "import pandas as pd\n",
    "import numpy as np\n",
    "import cv2\n",
    "import os\n",
    "import glob\n",
    "import matplotlib.pyplot as plt\n",
    "%matplotlib inline\n",
    "\n",
    "from sklearn.model_selection import train_test_split\n",
    "import matplotlib.pyplot as plt\n",
    "\n",
    "import tensorflow as tf\n",
    "\n",
    "from keras import backend as K\n",
    "from keras.applications import inception_v3\n",
    "from keras.applications.inception_v3 import InceptionV3\n",
    "from keras.applications.inception_v3 import preprocess_input as inception_v3_preprocessor\n",
    "from keras.optimizers import Adam\n",
    "from keras_preprocessing.image import ImageDataGenerator\n",
    "\n",
    "\n",
    "from keras.models import load_model\n",
    "\n",
    "from sklearn.metrics import accuracy_score\n",
    "from sklearn.preprocessing import LabelEncoder, OneHotEncoder\n",
    "from keras.utils import to_categorical\n",
    "\n",
    "import requests\n",
    "from PIL import Image\n",
    "from io import BytesIO\n",
    "import pickle\n",
    "\n",
    "import math\n",
    "#from tqdm import tqdm\n",
    "K.clear_session()"
   ]
  },
  {
   "cell_type": "code",
   "execution_count": 5,
   "metadata": {
    "colab": {
     "base_uri": "https://localhost:8080/",
     "height": 34
    },
    "colab_type": "code",
    "executionInfo": {
     "elapsed": 736,
     "status": "ok",
     "timestamp": 1543784061154,
     "user": {
      "displayName": "Jean-Loïc De Jaeger",
      "photoUrl": "https://lh5.googleusercontent.com/-8dYf0HqdtfY/AAAAAAAAAAI/AAAAAAAAN9g/jNNTHxY05CU/s64/photo.jpg",
      "userId": "14982598311044749224"
     },
     "user_tz": -480
    },
    "id": "5MimLiQn4OA9",
    "outputId": "941b4429-e4e3-4332-ff6a-620194d8348b"
   },
   "outputs": [
    {
     "name": "stdout",
     "output_type": "stream",
     "text": [
      "Drive already mounted at /gdrive; to attempt to forcibly remount, call drive.mount(\"/gdrive\", force_remount=True).\n"
     ]
    }
   ],
   "source": [
    "from google.colab import drive\n",
    "drive.mount('/gdrive')"
   ]
  },
  {
   "cell_type": "code",
   "execution_count": 0,
   "metadata": {
    "colab": {},
    "colab_type": "code",
    "id": "wn0rZtVUeHFh"
   },
   "outputs": [],
   "source": [
    "images_links = glob.glob('/gdrive/My Drive/Data/DogBreed/train/*')"
   ]
  },
  {
   "cell_type": "markdown",
   "metadata": {
    "colab_type": "text",
    "id": "hGWqIhm151yn"
   },
   "source": []
  },
  {
   "cell_type": "code",
   "execution_count": 0,
   "metadata": {
    "colab": {},
    "colab_type": "code",
    "id": "w82VVeA75lpI"
   },
   "outputs": [],
   "source": [
    "# Training parameters\n",
    "img_width, img_height = 299, 299\n",
    "train_data_dir = '/gdrive/My Drive/Data/DogBreed/train/'\n",
    "nb_classes = 120\n",
    "\n",
    "df_train = pd.read_csv('/gdrive/My Drive/Data/DogBreed/labels.csv')\n",
    "\n",
    "# Get the labels of the dogs breed\n",
    "target_labels = df_train['breed']"
   ]
  },
  {
   "cell_type": "code",
   "execution_count": 0,
   "metadata": {
    "colab": {},
    "colab_type": "code",
    "id": "FFNLzG14h8o9"
   },
   "outputs": [],
   "source": [
    "df_train = pd.get_dummies(df_train, prefix='breed', columns=['breed'])"
   ]
  },
  {
   "cell_type": "code",
   "execution_count": 0,
   "metadata": {
    "colab": {},
    "colab_type": "code",
    "id": "BGmQG-eNkCgt"
   },
   "outputs": [],
   "source": [
    "output_col = df_train.columns\n",
    "output_col = output_col.drop(['id'])"
   ]
  },
  {
   "cell_type": "markdown",
   "metadata": {
    "colab_type": "text",
    "id": "72wGwBj1lCqT"
   },
   "source": []
  },
  {
   "cell_type": "code",
   "execution_count": 12,
   "metadata": {
    "colab": {
     "base_uri": "https://localhost:8080/",
     "height": 51
    },
    "colab_type": "code",
    "executionInfo": {
     "elapsed": 1044,
     "status": "ok",
     "timestamp": 1543784566413,
     "user": {
      "displayName": "Jean-Loïc De Jaeger",
      "photoUrl": "https://lh5.googleusercontent.com/-8dYf0HqdtfY/AAAAAAAAAAI/AAAAAAAAN9g/jNNTHxY05CU/s64/photo.jpg",
      "userId": "14982598311044749224"
     },
     "user_tz": -480
    },
    "id": "AhKNfYnAd4M_",
    "outputId": "6b9ecef1-f8e9-454b-e8a2-0e790b53655b"
   },
   "outputs": [
    {
     "name": "stdout",
     "output_type": "stream",
     "text": [
      "Found 8178 images.\n",
      "Found 2044 images.\n"
     ]
    }
   ],
   "source": [
    "# Create train generator\n",
    "train_datagen = ImageDataGenerator(rescale=1./255,\n",
    "                                   rotation_range=30,\n",
    "                                   width_shift_range=0.2,\n",
    "                                   height_shift_range=0.2,\n",
    "                                   horizontal_flip = 'true',\n",
    "                                   validation_split=0.2)\n",
    "\n",
    "\n",
    "train_generator = train_datagen.flow_from_dataframe(df_train, \n",
    "                                                    directory=train_data_dir, \n",
    "                                                    x_col='id', \n",
    "                                                    y_col=output_col, \n",
    "                                                    has_ext=False, \n",
    "                                                    target_size=(299, 299), \n",
    "                                                    class_mode='other', \n",
    "                                                    batch_size=10, \n",
    "                                                    shuffle=False, \n",
    "                                                    seed=10,\n",
    "                                                    subset=\"training\")\n",
    "\n",
    "test_generator = train_datagen.flow_from_dataframe(df_train, \n",
    "                                                  directory=train_data_dir, \n",
    "                                                  x_col='id', \n",
    "                                                  y_col=output_col, \n",
    "                                                  has_ext=False, \n",
    "                                                  target_size=(299, 299), \n",
    "                                                  class_mode='other', \n",
    "                                                  batch_size=10, \n",
    "                                                  shuffle=False, \n",
    "                                                  seed=10,\n",
    "                                                  subset=\"validation\")"
   ]
  },
  {
   "cell_type": "code",
   "execution_count": 13,
   "metadata": {
    "colab": {
     "base_uri": "https://localhost:8080/",
     "height": 71
    },
    "colab_type": "code",
    "executionInfo": {
     "elapsed": 21474,
     "status": "ok",
     "timestamp": 1543784591857,
     "user": {
      "displayName": "Jean-Loïc De Jaeger",
      "photoUrl": "https://lh5.googleusercontent.com/-8dYf0HqdtfY/AAAAAAAAAAI/AAAAAAAAN9g/jNNTHxY05CU/s64/photo.jpg",
      "userId": "14982598311044749224"
     },
     "user_tz": -480
    },
    "id": "ViPcONNBd4ZH",
    "outputId": "0ee84133-38d7-4d4f-9255-ea3d2d84165b"
   },
   "outputs": [
    {
     "name": "stdout",
     "output_type": "stream",
     "text": [
      "Downloading data from https://github.com/fchollet/deep-learning-models/releases/download/v0.5/inception_v3_weights_tf_dim_ordering_tf_kernels_notop.h5\n",
      "87916544/87910968 [==============================] - 3s 0us/step\n"
     ]
    }
   ],
   "source": [
    "# Get the InceptionV3 model so we can do transfer learning\n",
    "base_model = InceptionV3(weights = 'imagenet', \n",
    "                         include_top = False, \n",
    "                         input_shape=(299, 299, 3))"
   ]
  },
  {
   "cell_type": "code",
   "execution_count": 0,
   "metadata": {
    "colab": {},
    "colab_type": "code",
    "id": "b8xcYNAed4g8"
   },
   "outputs": [],
   "source": [
    "# Add a global spatial average pooling layer\n",
    "x = base_model.output\n",
    "x = GlobalAveragePooling2D()(x)\n",
    "\n",
    "# Add a fully connected layer\n",
    "x = Dense(512)(x)\n",
    "x = BatchNormalization()(x)\n",
    "x = Activation('relu')(x)\n",
    "predictions = Dense(nb_classes, activation='softmax')(x)\n",
    "\n",
    "# The model we will train\n",
    "model = Model(inputs = base_model.input, outputs = predictions)\n",
    "    \n",
    "#for layer in base_model.layers[:249]:\n",
    "#   layer.trainable = False\n",
    "#for layer in base_model.layers[249:]:\n",
    "#   layer.trainable = True\n",
    "\n",
    "for layer in base_model.layers:\n",
    "  layer.trainable = False\n",
    "  \n",
    "    \n",
    "# Compile with Adam\n",
    "model.compile(Adam(lr=.0001),\n",
    "              loss='categorical_crossentropy',\n",
    "              metrics=['accuracy'])"
   ]
  },
  {
   "cell_type": "code",
   "execution_count": 24,
   "metadata": {
    "colab": {
     "base_uri": "https://localhost:8080/",
     "height": 68
    },
    "colab_type": "code",
    "executionInfo": {
     "elapsed": 15426,
     "status": "ok",
     "timestamp": 1543785540135,
     "user": {
      "displayName": "Jean-Loïc De Jaeger",
      "photoUrl": "https://lh5.googleusercontent.com/-8dYf0HqdtfY/AAAAAAAAAAI/AAAAAAAAN9g/jNNTHxY05CU/s64/photo.jpg",
      "userId": "14982598311044749224"
     },
     "user_tz": -480
    },
    "id": "YkmA6WzKxfwl",
    "outputId": "99c7f2c0-d67f-4971-fb35-e8f05367d0ad"
   },
   "outputs": [
    {
     "name": "stdout",
     "output_type": "stream",
     "text": [
      "Wait for 8 seconds...\n",
      "TensorBoard link:\n",
      "https://c7ed5bd6.ngrok.io\n"
     ]
    }
   ],
   "source": [
    "from tensorboardcolab import TensorBoardColab, TensorBoardColabCallback\n",
    "tbc=TensorBoardColab()"
   ]
  },
  {
   "cell_type": "code",
   "execution_count": 0,
   "metadata": {
    "colab": {
     "base_uri": "https://localhost:8080/",
     "height": 629
    },
    "colab_type": "code",
    "executionInfo": {
     "elapsed": 7830525,
     "status": "ok",
     "timestamp": 1543765668228,
     "user": {
      "displayName": "Jean-Loïc De Jaeger",
      "photoUrl": "https://lh5.googleusercontent.com/-8dYf0HqdtfY/AAAAAAAAAAI/AAAAAAAAN9g/jNNTHxY05CU/s64/photo.jpg",
      "userId": "14982598311044749224"
     },
     "user_tz": -480
    },
    "id": "E4K3jldpd4mA",
    "outputId": "d21c94d7-95e6-4d54-cb92-0529ef0ea9ef"
   },
   "outputs": [
    {
     "name": "stdout",
     "output_type": "stream",
     "text": [
      "Epoch 1/25\n",
      "817/817 [==============================] - 2576s 3s/step - loss: 2.6991 - acc: 0.4371 - val_loss: 0.8477 - val_acc: 0.7716\n",
      "Epoch 2/25\n",
      "817/817 [==============================] - 312s 381ms/step - loss: 1.3632 - acc: 0.6767 - val_loss: 0.7000 - val_acc: 0.7901\n",
      "Epoch 3/25\n",
      "817/817 [==============================] - 308s 377ms/step - loss: 1.0848 - acc: 0.7269 - val_loss: 0.6735 - val_acc: 0.8019\n",
      "Epoch 4/25\n",
      "817/817 [==============================] - 308s 377ms/step - loss: 0.9175 - acc: 0.7612 - val_loss: 0.6768 - val_acc: 0.8004\n",
      "Epoch 5/25\n",
      "817/817 [==============================] - 306s 374ms/step - loss: 0.8223 - acc: 0.7887 - val_loss: 0.6662 - val_acc: 0.7920\n",
      "Epoch 6/25\n",
      "817/817 [==============================] - 308s 377ms/step - loss: 0.7076 - acc: 0.8147 - val_loss: 0.6781 - val_acc: 0.8073\n",
      "Epoch 7/25\n",
      "817/817 [==============================] - 309s 378ms/step - loss: 0.6425 - acc: 0.8315 - val_loss: 0.6846 - val_acc: 0.8073\n",
      "Epoch 8/25\n",
      "817/817 [==============================] - 307s 376ms/step - loss: 0.5918 - acc: 0.8435 - val_loss: 0.7109 - val_acc: 0.7935\n",
      "Epoch 9/25\n",
      "817/817 [==============================] - 307s 376ms/step - loss: 0.5352 - acc: 0.8581 - val_loss: 0.6819 - val_acc: 0.8058\n",
      "Epoch 10/25\n",
      "817/817 [==============================] - 309s 378ms/step - loss: 0.4778 - acc: 0.8778 - val_loss: 0.7199 - val_acc: 0.8058\n",
      "Epoch 11/25\n",
      "817/817 [==============================] - 308s 377ms/step - loss: 0.4466 - acc: 0.8843 - val_loss: 0.7490 - val_acc: 0.7891\n",
      "Epoch 12/25\n",
      "817/817 [==============================] - 306s 375ms/step - loss: 0.4044 - acc: 0.8983 - val_loss: 0.7283 - val_acc: 0.7989\n",
      "Epoch 13/25\n",
      "817/817 [==============================] - 308s 377ms/step - loss: 0.3603 - acc: 0.9143 - val_loss: 0.7224 - val_acc: 0.8029\n",
      "Epoch 14/25\n",
      "817/817 [==============================] - 305s 373ms/step - loss: 0.3487 - acc: 0.9091 - val_loss: 0.7466 - val_acc: 0.7984\n",
      "Epoch 15/25\n",
      "817/817 [==============================] - 306s 375ms/step - loss: 0.3232 - acc: 0.9173 - val_loss: 0.7433 - val_acc: 0.8024\n",
      "Epoch 16/25\n",
      "817/817 [==============================] - 304s 372ms/step - loss: 0.2938 - acc: 0.9259 - val_loss: 0.7362 - val_acc: 0.7940\n",
      "Epoch 17/25\n",
      "817/817 [==============================] - 304s 372ms/step - loss: 0.2702 - acc: 0.9353 - val_loss: 0.7609 - val_acc: 0.8014\n",
      "Epoch 18/25\n",
      " 90/817 [==>...........................] - ETA: 3:29 - loss: 0.2634 - acc: 0.9322"
     ]
    }
   ],
   "source": [
    "# Train the model\n",
    "STEP_SIZE_TRAIN=train_generator.n//train_generator.batch_size\n",
    "STEP_SIZE_VALID=test_generator.n//test_generator.batch_size\n",
    "\n",
    "tbcallback = TensorBoard(log_dir='/gdrive/My Drive/Data/DogBreed/Graphs',  \n",
    "                         histogram_freq=0, \n",
    "                         write_graph=True, \n",
    "                         write_images=True)\n",
    "\n",
    "earlyStopping = EarlyStopping(monitor='val_loss', \n",
    "                              patience=10, \n",
    "                              verbose=0, \n",
    "                              mode='min')\n",
    "\n",
    "mcp_save = ModelCheckpoint('/gdrive/My Drive/Data/DogBreed/Models/dogbreeds_model_v7.h5', \n",
    "                           save_best_only=True, \n",
    "                           monitor='val_loss', \n",
    "                           mode='min')\n",
    "\n",
    "model.fit_generator(train_generator,\n",
    "                    steps_per_epoch = STEP_SIZE_TRAIN,\n",
    "                    validation_steps = STEP_SIZE_VALID,\n",
    "                    validation_data = test_generator,\n",
    "                    epochs = 25,\n",
    "                    verbose = 1,\n",
    "                    callbacks = [TensorBoardColabCallback(tbc), mcp_save, tbcallback])"
   ]
  },
  {
   "cell_type": "code",
   "execution_count": 9,
   "metadata": {
    "colab": {},
    "colab_type": "code",
    "id": "890i8SY_Ak9R"
   },
   "outputs": [],
   "source": [
    "model_saved = load_model('dogbreeds_model_v7.h5')"
   ]
  },
  {
   "cell_type": "code",
   "execution_count": 10,
   "metadata": {},
   "outputs": [],
   "source": [
    "def predict_img(img_url):\n",
    "\n",
    "    response = requests.get(img_url)\n",
    "    img_to_predict = Image.open(BytesIO(response.content))\n",
    "    img_to_predict = img_to_predict.resize((299, 299))\n",
    "    image_array = img_to_array(img_to_predict)\n",
    "    image_array = image_array / 255\n",
    "    image_array = np.expand_dims(image_array, axis=0)\n",
    "\n",
    "    prediction = model_saved.predict(image_array)\n",
    "    highest_breed = prediction[0].argmax()\n",
    "    # Load the decoder from the decoder.p file\n",
    "    decoder = pickle.load(open(\"decoder.p\", \"rb\"))['decoder']\n",
    "    breed_prediction = decoder.inverse_transform(highest_breed)\n",
    "    confidence = prediction[0][highest_breed]\n",
    "  \n",
    "    return breed_prediction, confidence"
   ]
  },
  {
   "cell_type": "code",
   "execution_count": 11,
   "metadata": {},
   "outputs": [
    {
     "name": "stderr",
     "output_type": "stream",
     "text": [
      "/Users/yinshangyi/miniconda3/envs/ml/lib/python3.6/site-packages/sklearn/preprocessing/label.py:151: DeprecationWarning: The truth value of an empty array is ambiguous. Returning False, but in future this will result in an error. Use `array.size > 0` to check that an array is not empty.\n",
      "  if diff:\n"
     ]
    },
    {
     "data": {
      "text/plain": [
       "('maltese_dog', 0.9822443)"
      ]
     },
     "execution_count": 11,
     "metadata": {},
     "output_type": "execute_result"
    }
   ],
   "source": [
    "predict_img('http://www.petmd.com/sites/default/files/small-dog-breeds.jpg')"
   ]
  },
  {
   "cell_type": "code",
   "execution_count": null,
   "metadata": {},
   "outputs": [],
   "source": []
  }
 ],
 "metadata": {
  "accelerator": "GPU",
  "colab": {
   "name": "Dogbreed.ipynb",
   "provenance": [],
   "version": "0.3.2"
  },
  "kernelspec": {
   "display_name": "Python 3",
   "language": "python",
   "name": "python3"
  },
  "language_info": {
   "codemirror_mode": {
    "name": "ipython",
    "version": 3
   },
   "file_extension": ".py",
   "mimetype": "text/x-python",
   "name": "python",
   "nbconvert_exporter": "python",
   "pygments_lexer": "ipython3",
   "version": "3.6.4"
  }
 },
 "nbformat": 4,
 "nbformat_minor": 1
}
